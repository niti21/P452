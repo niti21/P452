{
 "cells": [
  {
   "cell_type": "code",
   "execution_count": 47,
   "id": "0f8b47f1-debf-44de-990a-2ec6187cab12",
   "metadata": {
    "tags": []
   },
   "outputs": [
    {
     "name": "stdout",
     "output_type": "stream",
     "text": [
      "iteration = 76\n",
      "The solution is: 0.5671\n"
     ]
    }
   ],
   "source": [
    "import math\n",
    "\n",
    "def fixed_point_iteration(initial_guess, tolerance=1e-6, max_iterations=100):\n",
    "    x_n = initial_guess\n",
    "    i = 0\n",
    "    \n",
    "    for iteration in range(max_iterations):\n",
    "        x_next = math.exp(-x_n)\n",
    "        \n",
    "        if abs(x_next - x_n) < tolerance:\n",
    "            sol = x_next\n",
    "            i=i+1\n",
    "        x_n = x_next\n",
    "    \n",
    "    print( 'iteration =', i)\n",
    "    return sol\n",
    "    #raise ValueError(\"Fixed-point iteration did not converge within the specified number of iterations.\")\n",
    "    \n",
    "# Example usage:\n",
    "initial_guess = 0.2\n",
    "solution = fixed_point_iteration(initial_guess)\n",
    "\n",
    "print(f\"The solution is: {solution:.4f}\")\n"
   ]
  },
  {
   "cell_type": "code",
   "execution_count": null,
   "id": "85d7a969-9212-4477-9f36-ea5b482dfecb",
   "metadata": {},
   "outputs": [],
   "source": []
  }
 ],
 "metadata": {
  "kernelspec": {
   "display_name": "Python 3 (ipykernel)",
   "language": "python",
   "name": "python3"
  },
  "language_info": {
   "codemirror_mode": {
    "name": "ipython",
    "version": 3
   },
   "file_extension": ".py",
   "mimetype": "text/x-python",
   "name": "python",
   "nbconvert_exporter": "python",
   "pygments_lexer": "ipython3",
   "version": "3.8.8"
  }
 },
 "nbformat": 4,
 "nbformat_minor": 5
}
