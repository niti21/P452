{
 "cells": [
  {
   "cell_type": "code",
   "execution_count": null,
   "id": "dc74d11e-98be-426f-998d-dd8a418bfe70",
   "metadata": {
    "tags": []
   },
   "outputs": [],
   "source": [
    "# NITI SINGH\n",
    "# 2011101\n",
    "# MID SEM EXAM\n",
    "\n",
    "\n",
    "import NSLib2 as l\n",
    "import numpy as np\n",
    "import math\n",
    "import matplotlib.pyplot as plt"
   ]
  },
  {
   "cell_type": "code",
   "execution_count": null,
   "id": "517f93c2-ba66-42c1-8232-0a276658298f",
   "metadata": {
    "tags": []
   },
   "outputs": [],
   "source": [
    "# QUESTION 1\n",
    "\n",
    "\n",
    "def f(q):\n",
    "    return (math.log(0.5*q) - math.sin((5*q)/2))\n",
    "def df(q):\n",
    "    return (1/q) -((5/2)*math.cos(5*q/2))\n",
    "a=1.5\n",
    "b=2.5\n",
    "tol = 1e-6\n",
    "x=1 #Initial guess\n",
    "\n",
    "#l.regulaFalsi(f,a,b,tol)\n",
    "#A,B=l.bracket(f,a,b)\n",
    "#l.newtonRaphson(f,df,x,tol)\n",
    "\n",
    "#print(N,R)\n",
    "print('Comparing Regula falsi vs Newton raphson')\n",
    "print()\n",
    "n,cn=l.newtonRaphson(f,df,x,tol)\n",
    "print()\n",
    "print('Root from Newton raphson: ',n, ' in ',cn, 'iterations')\n",
    "print()\n",
    "r,cr=l.regulaFalsi(f,a,b,tol)\n",
    "print('Root from Regula falsi: ',r, ' in ',cr, 'iterations')"
   ]
  },
  {
   "cell_type": "code",
   "execution_count": null,
   "id": "32005e98-2774-46d0-8ecf-319d295020fe",
   "metadata": {},
   "outputs": [],
   "source": [
    "# Question 2\n",
    "#shoot(d2ydx2, dydx, x0, y0, xf, yf, z_g1, z_g2, st, tol)\n",
    "\n",
    "a = 0.01\n",
    "def dydx(x, y, z):\n",
    "    return z\n",
    "def d2ydx2(x, y, z):\n",
    "    return -(a*(20-y))\n",
    "\n",
    "x_1, y_1, z_1 = l.shoot(d2ydx2, dydx, 0, 40, 10, 200, 0, 1000, 0.01, 0.000001)\n",
    "\n",
    "#finding closest temp to 100 in the rod\n",
    "print('For temperature = 100 +- 0.1 degree C is:\\n')\n",
    "for i in range(0,len(x_1)):\n",
    "    v=(y_1[i] - 100)\n",
    "    if abs(v) <= 0.1:\n",
    "        print('At ', x_1[i],'m: ',y_1[i], 'degree C')\n",
    "print()\n",
    "plt.scatter(x_1,y_1) #blue"
   ]
  },
  {
   "cell_type": "code",
   "execution_count": null,
   "id": "66f8c954-2dcf-42c2-baaa-c96c737dd0fa",
   "metadata": {
    "tags": []
   },
   "outputs": [],
   "source": [
    "# Question 3\n",
    "\n",
    "def vnot(l_x, N_x): \n",
    "    V0 = []\n",
    "    X = []\n",
    "    h_x = (l_x/N_x)\n",
    "    for i in range(0,N_x+1):\n",
    "        # print(i)\n",
    "        if h_x*i == 1:\n",
    "            V0.append(300)\n",
    "        else:\n",
    "            V0.append(0)\n",
    "        X.append(i*h_x)\n",
    "    # print(V0)\n",
    "    # print(0)\n",
    "    plt.plot(X, V0) \n",
    "    return X, V0\n",
    "# at time stamp = 1, 2, 5, 10, 20, 50, 100, 200, 500, 1000:\n",
    "lx = 2         #length of rod\n",
    "lt = 10       #time to observe\n",
    "nx = 20       #no of length intervals\n",
    "nt = 5000   #no of time intervals\n",
    "l.pde(vnot,lx,lt,nx,nt)"
   ]
  },
  {
   "cell_type": "code",
   "execution_count": null,
   "id": "338596b3-5f56-4d0b-bba0-423a0d483041",
   "metadata": {
    "tags": []
   },
   "outputs": [],
   "source": [
    "#Question 4\n",
    "\n",
    "#lambda(x) = x^2 ; C = ~xdm/~dm ; dm = lambda dx = x^2dx\n",
    "\n",
    "def dm(x):\n",
    "    return x**2\n",
    "def xdm(x):\n",
    "    return x**3\n",
    "\n",
    "#limit = [0,2]\n",
    "\n",
    "#Using simpsons method to solve the linear mass density integral\n",
    "\n",
    "a = l.Simpsons(dm,0,2,10)\n",
    "b = l.Simpsons(xdm,0,2,10)\n",
    "#print(a,b)\n",
    "C = b/a # Calculating centre of mass\n",
    "print (f'The center of mass of the rod is {C:.4f}')"
   ]
  },
  {
   "cell_type": "code",
   "execution_count": null,
   "id": "a09de226-51f3-4f32-8521-d51ac6ba82b9",
   "metadata": {
    "tags": []
   },
   "outputs": [],
   "source": [
    "# QUESTION 5\n",
    "\n",
    "with open('a5.txt', 'r') as f1:\n",
    "    a = [[float(num) for num in line.split(',')] for line in f1 ]\n",
    "print (a)\n",
    "print()\n",
    "b1 = open('b5.txt', 'r')\n",
    "b= b1.read().split(',')\n",
    "for i in range(0,len(b)):\n",
    "    b[i]=float(b[i])\n",
    "print(b)\n",
    "    \n",
    "#finding the L and U using library function\n",
    "L1,U1=l.lud(a)\n",
    "\n",
    "#forward subsitutuion\n",
    "y=l.forwardsub(L1,b)\n",
    "print('After forward subsitution, Matrix is: \\n', y)\n",
    "\n",
    "\n",
    "#backward subsitution\n",
    "z=l.backwardsub(U1,y)\n",
    "print('After backward subsitution, the answer matrix is: \\n',z)"
   ]
  },
  {
   "cell_type": "code",
   "execution_count": null,
   "id": "fdaa7284-f979-4515-9b2e-0bca1a0ce50e",
   "metadata": {},
   "outputs": [],
   "source": []
  },
  {
   "cell_type": "code",
   "execution_count": null,
   "id": "cb765c46-c1f8-49f3-a606-bdbd57d97637",
   "metadata": {},
   "outputs": [],
   "source": []
  }
 ],
 "metadata": {
  "kernelspec": {
   "display_name": "Python 3 (ipykernel)",
   "language": "python",
   "name": "python3"
  },
  "language_info": {
   "codemirror_mode": {
    "name": "ipython",
    "version": 3
   },
   "file_extension": ".py",
   "mimetype": "text/x-python",
   "name": "python",
   "nbconvert_exporter": "python",
   "pygments_lexer": "ipython3",
   "version": "3.8.8"
  }
 },
 "nbformat": 4,
 "nbformat_minor": 5
}
